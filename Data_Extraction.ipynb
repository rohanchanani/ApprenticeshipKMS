{
  "cells": [
    {
      "cell_type": "code",
      "execution_count": 1,
      "id": "98b94b48",
      "metadata": {
        "colab": {
          "base_uri": "https://localhost:8080/"
        },
        "id": "98b94b48",
        "outputId": "11b20907-cc12-43dd-908f-df669c101d67"
      },
      "outputs": [
        {
          "output_type": "stream",
          "name": "stdout",
          "text": [
            "Looking in indexes: https://pypi.org/simple, https://us-python.pkg.dev/colab-wheels/public/simple/\n",
            "Requirement already satisfied: python-docx in /usr/local/lib/python3.7/dist-packages (0.8.11)\n",
            "Requirement already satisfied: lxml>=2.3.2 in /usr/local/lib/python3.7/dist-packages (from python-docx) (4.2.6)\n",
            "Looking in indexes: https://pypi.org/simple, https://us-python.pkg.dev/colab-wheels/public/simple/\n",
            "Requirement already satisfied: docx2txt in /usr/local/lib/python3.7/dist-packages (0.8)\n",
            "Looking in indexes: https://pypi.org/simple, https://us-python.pkg.dev/colab-wheels/public/simple/\n",
            "Requirement already satisfied: dnspython in /usr/local/lib/python3.7/dist-packages (2.2.1)\n",
            "Looking in indexes: https://pypi.org/simple, https://us-python.pkg.dev/colab-wheels/public/simple/\n",
            "Requirement already satisfied: pymongo in /usr/local/lib/python3.7/dist-packages (4.1.1)\n"
          ]
        }
      ],
      "source": [
        "#imports\n",
        "!pip install python-docx\n",
        "!pip install docx2txt\n",
        "!pip install dnspython\n",
        "!pip install pymongo\n",
        "import docx\n",
        "import docx2txt\n",
        "import sqlalchemy\n",
        "import pandas as pd\n",
        "import os\n",
        "from pymongo import MongoClient\n",
        "import re"
      ]
    },
    {
      "cell_type": "code",
      "execution_count": 2,
      "id": "d6b93372",
      "metadata": {
        "id": "d6b93372"
      },
      "outputs": [],
      "source": [
        "#Connect to remote MongoDB database hosted on Heroku\n",
        "def get_database():\n",
        "\n",
        "    # Provide the mongodb atlas url to connect python to mongodb using pymongo\n",
        "    CONNECTION_STRING = \"mongodb+srv://apprenticeship:\" + \"insertpassword\" + \"@kmsdataextraction.jodxa.mongodb.net/?retryWrites=true&w=majority\"\n",
        "\n",
        "    # Create a connection using MongoClient. You can import MongoClient or use pymongo.MongoClient\n",
        "    client = MongoClient(CONNECTION_STRING)\n",
        "\n",
        "    # Create the database for our example (we will use the same database throughout the tutorial\n",
        "    return client['data-extraction']\n",
        "\n",
        "extraction_db = get_database()\n",
        "\n",
        "companies = extraction_db.companies\n",
        "questions = extraction_db.questions"
      ]
    },
    {
      "cell_type": "code",
      "execution_count": 6,
      "id": "c7ff1112",
      "metadata": {
        "colab": {
          "base_uri": "https://localhost:8080/"
        },
        "id": "c7ff1112",
        "outputId": "58e0f053-22a4-49af-d079-125b102e8f2b"
      },
      "outputs": [
        {
          "output_type": "stream",
          "name": "stdout",
          "text": [
            "--2022-06-02 18:03:51--  https://github.com/rohanchanani/ApprenticeshipKMS/blob/main/Completed_Anonym_KMS_Assessment_Discussion_Framework_R03.3-.docx?raw=true\n",
            "Resolving github.com (github.com)... 52.192.72.89\n",
            "Connecting to github.com (github.com)|52.192.72.89|:443... connected.\n",
            "HTTP request sent, awaiting response... 302 Found\n",
            "Location: https://github.com/rohanchanani/ApprenticeshipKMS/raw/main/Completed_Anonym_KMS_Assessment_Discussion_Framework_R03.3-.docx [following]\n",
            "--2022-06-02 18:03:51--  https://github.com/rohanchanani/ApprenticeshipKMS/raw/main/Completed_Anonym_KMS_Assessment_Discussion_Framework_R03.3-.docx\n",
            "Reusing existing connection to github.com:443.\n",
            "HTTP request sent, awaiting response... 302 Found\n",
            "Location: https://raw.githubusercontent.com/rohanchanani/ApprenticeshipKMS/main/Completed_Anonym_KMS_Assessment_Discussion_Framework_R03.3-.docx [following]\n",
            "--2022-06-02 18:03:51--  https://raw.githubusercontent.com/rohanchanani/ApprenticeshipKMS/main/Completed_Anonym_KMS_Assessment_Discussion_Framework_R03.3-.docx\n",
            "Resolving raw.githubusercontent.com (raw.githubusercontent.com)... 185.199.108.133, 185.199.109.133, 185.199.110.133, ...\n",
            "Connecting to raw.githubusercontent.com (raw.githubusercontent.com)|185.199.108.133|:443... connected.\n",
            "HTTP request sent, awaiting response... 200 OK\n",
            "Length: 663250 (648K) [application/octet-stream]\n",
            "Saving to: ‘Completed_Anonym_KMS_Assessment_Discussion_Framework_R03.3-.docx?raw=true.1’\n",
            "\n",
            "Completed_Anonym_KM 100%[===================>] 647.71K  --.-KB/s    in 0.05s   \n",
            "\n",
            "2022-06-02 18:03:51 (12.3 MB/s) - ‘Completed_Anonym_KMS_Assessment_Discussion_Framework_R03.3-.docx?raw=true.1’ saved [663250/663250]\n",
            "\n"
          ]
        }
      ],
      "source": [
        "#Extract raw text from example docx file and remove apostrophes so SQL insertions work\n",
        "!wget https://github.com/rohanchanani/ApprenticeshipKMS/blob/main/Completed_Anonym_KMS_Assessment_Discussion_Framework_R03.3-.docx?raw=true\n",
        "!mv /content/Completed_Anonym_KMS_Assessment_Discussion_Framework_R03.3-.docx?raw=true /content/Completed_Anonym_KMS_Assessment_Discussion_Framework_R03.3-.docx\n",
        "text = docx2txt.process(\"/content/Completed_Anonym_KMS_Assessment_Discussion_Framework_R03.3-.docx\")\n",
        "all_lines = [line.strip().replace(\"'\", \"\") for line in text.split(\"\\n\") if line != \"\"]"
      ]
    },
    {
      "cell_type": "code",
      "execution_count": 8,
      "id": "b3305955",
      "metadata": {
        "id": "b3305955"
      },
      "outputs": [],
      "source": [
        "#Extract question and section lines from docx file based on paragraph formatting. Sections are \"Heading 1\" and questions are \"Heading 2\" or \"Heading 3\"\n",
        "doc = docx.Document(\"/content/Completed_Anonym_KMS_Assessment_Discussion_Framework_R03.3-.docx\")\n",
        "found_questions = [paragraph.text.strip().replace(\"'\", \"\") for paragraph in doc.paragraphs if paragraph.text != \"\" and paragraph.style.name in [\"Heading 2\", \"Heading 3\"]]\n",
        "sections = [paragraph.text.strip().replace(\"'\", \"\") for paragraph in doc.paragraphs if paragraph.text != \"\" and paragraph.style.name == \"Heading 1\"]"
      ]
    },
    {
      "cell_type": "code",
      "execution_count": null,
      "id": "ebc5988c",
      "metadata": {
        "id": "ebc5988c"
      },
      "outputs": [],
      "source": [
        "#Given database and question data, insert a line into the question table for each new question and a line into the company table for each new line\n",
        "def upload_question_to_database(question, answer, section, company, version, number, question_results, company_results):   \n",
        "    if not question_results.get(question+answer):\n",
        "        questions.insert_one({\"number\":number, \"question\":question, \"answer\":answer, \"version\": version, \"company\":company, \"section\":section})"
      ]
    },
    {
      "cell_type": "code",
      "execution_count": null,
      "id": "f1832dfe",
      "metadata": {
        "id": "f1832dfe"
      },
      "outputs": [],
      "source": [
        "def read_questions(company, version, current_section, i, all_lines, found_questions, sections):\n",
        "    #Cached duplicates\n",
        "    question_results = {test[\"question\"]+test[\"answer\"]:1 for test in list(questions.find({}, {\"_id\":0}))}\n",
        "    company_results = {test[\"company_name\"]:1 for test in list(companies.find({}, {\"_id\":0}))}\n",
        "    \n",
        "    #Match questions with answers\n",
        "    question_number = 1\n",
        "    while i < len(all_lines):\n",
        "        current_question = all_lines[i]\n",
        "        try:\n",
        "            next_ten_questions = found_questions[found_questions.index(current_question) + 1: found_questions.index(current_question) + 11]\n",
        "        except:\n",
        "            i += 1\n",
        "            continue\n",
        "        current_answer = all_lines[i+1]\n",
        "        i += 2\n",
        "        while i < len(all_lines):\n",
        "            if all_lines[i] in next_ten_questions:\n",
        "                break\n",
        "            if all_lines[i] == sections[min(sections.index(current_section) + 1, len(sections) - 1)]:\n",
        "                current_section = all_lines[i]\n",
        "                i += 1\n",
        "                break\n",
        "            current_answer += \"\\n\" + all_lines[i]\n",
        "            i += 1\n",
        "        upload_question_to_database(current_question, current_answer, current_section, company, version, question_number, question_results, company_results)\n",
        "        question_number += 1"
      ]
    },
    {
      "cell_type": "code",
      "execution_count": null,
      "id": "b54bc32e",
      "metadata": {
        "scrolled": false,
        "id": "b54bc32e"
      },
      "outputs": [],
      "source": [
        "#Read the full document\n",
        "\n",
        "#Counter to track current line of document\n",
        "i = 0\n",
        "version_not_found = True\n",
        "current_section = \"\"\n",
        "questions_started = False\n",
        "while not questions_started:\n",
        "    \n",
        "    #Find the company name and insert if not duplicate\n",
        "    if all_lines[i] == \"Technology Assessment of\":\n",
        "        company_name = all_lines[i+1]\n",
        "        if not len(list(companies.find({\"company_name\":company_name}))):\n",
        "            companies.insert_one({\"company_name\":company_name})\n",
        "        i += 2\n",
        "    #Find the company ADF version\n",
        "    elif \"Document Version\" in all_lines[i] and version_not_found:\n",
        "        document_version = all_lines[i].split(\" \")[-1]\n",
        "        version_not_found = False\n",
        "        i += 1\n",
        "    \n",
        "    #Find the first section and start the questions\n",
        "    elif all_lines[i] in sections:\n",
        "        current_section = all_lines[i]\n",
        "        i += 1\n",
        "        questions_started = True\n",
        "    else:\n",
        "        i += 1\n",
        "read_questions(company_name, document_version, current_section, i, all_lines, found_questions, sections)"
      ]
    }
  ],
  "metadata": {
    "kernelspec": {
      "display_name": "Python 3 (ipykernel)",
      "language": "python",
      "name": "python3"
    },
    "language_info": {
      "codemirror_mode": {
        "name": "ipython",
        "version": 3
      },
      "file_extension": ".py",
      "mimetype": "text/x-python",
      "name": "python",
      "nbconvert_exporter": "python",
      "pygments_lexer": "ipython3",
      "version": "3.9.9"
    },
    "colab": {
      "name": "Data_Extraction.ipynb",
      "provenance": [],
      "collapsed_sections": []
    }
  },
  "nbformat": 4,
  "nbformat_minor": 5
}
